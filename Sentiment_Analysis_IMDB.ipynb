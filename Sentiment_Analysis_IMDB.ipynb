{
  "nbformat": 4,
  "nbformat_minor": 0,
  "metadata": {
    "kernelspec": {
      "display_name": "Python 3",
      "language": "python",
      "name": "python3"
    },
    "language_info": {
      "codemirror_mode": {
        "name": "ipython",
        "version": 3
      },
      "file_extension": ".py",
      "mimetype": "text/x-python",
      "name": "python",
      "nbconvert_exporter": "python",
      "pygments_lexer": "ipython3",
      "version": "3.7.3"
    },
    "colab": {
      "name": "Sentiment_Analysis_IMDB.ipynb",
      "provenance": [],
      "collapsed_sections": [],
      "toc_visible": true
    }
  },
  "cells": [
    {
      "cell_type": "markdown",
      "metadata": {
        "id": "pfB0toaH3K3d"
      },
      "source": [
        "<h1 align=center><font size=5>Sentiment Analysis of IMDB Movie Reviews</font></h1>"
      ]
    },
    {
      "cell_type": "markdown",
      "metadata": {
        "id": "WDTY5NDq3K3g"
      },
      "source": [
        "### Table of contents\n",
        "\n",
        "- [Data](#data)\n",
        "- [ANN](#ann)\n",
        "- [CNN](#cnn)\n",
        "- [LSTM](#lstm)\n",
        "- [Bidirectional LSTM ](#bilstm)\n",
        "- [CNN LSTM](#cnnlstm)"
      ]
    },
    {
      "cell_type": "markdown",
      "metadata": {
        "id": "zR2v1Pw23K3i"
      },
      "source": [
        "### Data <a id=\"data\"></a>\n",
        "\n",
        "#### About IMDB movie reviews\n",
        "\n",
        "Dataset of 25,000 movies reviews from IMDB, labeled by sentiment (positive/negative). Reviews have been preprocessed, and each review is encoded as a sequence of word indexes (integers). For convenience, words are indexed by overall frequency in the dataset, so that for instance the integer \"3\" encodes the 3rd most frequent word in the data. This allows for quick filtering operations such as: \"only consider the top 10,000 most common words, but eliminate the top 20 most common words\". As a convention, \"0\" does not stand for a specific word, but instead is used to encode any unknown word."
      ]
    },
    {
      "cell_type": "markdown",
      "metadata": {
        "id": "ufEkJXsz3K3k"
      },
      "source": [
        "#### 1) Load IMDB dataset\n",
        "\n",
        "&#x270d; 1.1) Load IMDB moview reviews dataset in keras with having the top 5,000 most common words."
      ]
    },
    {
      "cell_type": "code",
      "metadata": {
        "id": "0Q-660Vx3K3n",
        "colab": {
          "base_uri": "https://localhost:8080/"
        },
        "outputId": "925a162a-f1fe-40d4-858f-0f4f5b8dd9e5"
      },
      "source": [
        "from keras.datasets import imdb\n",
        "\n",
        "vocab_size = 5000 \n",
        "(X_train, y_train), (X_test, y_test) = imdb.load_data(num_words= vocab_size)\n",
        "\n",
        "print(len(X_train), 'train sequences')\n",
        "print(len(X_test), 'test sequences')"
      ],
      "execution_count": 1,
      "outputs": [
        {
          "output_type": "stream",
          "text": [
            "Downloading data from https://storage.googleapis.com/tensorflow/tf-keras-datasets/imdb.npz\n",
            "17465344/17464789 [==============================] - 0s 0us/step\n"
          ],
          "name": "stdout"
        },
        {
          "output_type": "stream",
          "text": [
            "<string>:6: VisibleDeprecationWarning: Creating an ndarray from ragged nested sequences (which is a list-or-tuple of lists-or-tuples-or ndarrays with different lengths or shapes) is deprecated. If you meant to do this, you must specify 'dtype=object' when creating the ndarray\n",
            "/usr/local/lib/python3.6/dist-packages/tensorflow/python/keras/datasets/imdb.py:159: VisibleDeprecationWarning: Creating an ndarray from ragged nested sequences (which is a list-or-tuple of lists-or-tuples-or ndarrays with different lengths or shapes) is deprecated. If you meant to do this, you must specify 'dtype=object' when creating the ndarray\n",
            "  x_train, y_train = np.array(xs[:idx]), np.array(labels[:idx])\n"
          ],
          "name": "stderr"
        },
        {
          "output_type": "stream",
          "text": [
            "25000 train sequences\n",
            "25000 test sequences\n"
          ],
          "name": "stdout"
        },
        {
          "output_type": "stream",
          "text": [
            "/usr/local/lib/python3.6/dist-packages/tensorflow/python/keras/datasets/imdb.py:160: VisibleDeprecationWarning: Creating an ndarray from ragged nested sequences (which is a list-or-tuple of lists-or-tuples-or ndarrays with different lengths or shapes) is deprecated. If you meant to do this, you must specify 'dtype=object' when creating the ndarray\n",
            "  x_test, y_test = np.array(xs[idx:]), np.array(labels[idx:])\n"
          ],
          "name": "stderr"
        }
      ]
    },
    {
      "cell_type": "markdown",
      "metadata": {
        "id": "2AfxJbUi3K3r"
      },
      "source": [
        "&#x270d; 1.2) Have a look at a sample of dataset. What are your observations?"
      ]
    },
    {
      "cell_type": "code",
      "metadata": {
        "id": "Dj-SUlGO3K3t",
        "colab": {
          "base_uri": "https://localhost:8080/"
        },
        "outputId": "96cee9d5-be24-40d5-fc6f-02f0991e0795"
      },
      "source": [
        "X_train[1]"
      ],
      "execution_count": 2,
      "outputs": [
        {
          "output_type": "execute_result",
          "data": {
            "text/plain": [
              "[1,\n",
              " 194,\n",
              " 1153,\n",
              " 194,\n",
              " 2,\n",
              " 78,\n",
              " 228,\n",
              " 5,\n",
              " 6,\n",
              " 1463,\n",
              " 4369,\n",
              " 2,\n",
              " 134,\n",
              " 26,\n",
              " 4,\n",
              " 715,\n",
              " 8,\n",
              " 118,\n",
              " 1634,\n",
              " 14,\n",
              " 394,\n",
              " 20,\n",
              " 13,\n",
              " 119,\n",
              " 954,\n",
              " 189,\n",
              " 102,\n",
              " 5,\n",
              " 207,\n",
              " 110,\n",
              " 3103,\n",
              " 21,\n",
              " 14,\n",
              " 69,\n",
              " 188,\n",
              " 8,\n",
              " 30,\n",
              " 23,\n",
              " 7,\n",
              " 4,\n",
              " 249,\n",
              " 126,\n",
              " 93,\n",
              " 4,\n",
              " 114,\n",
              " 9,\n",
              " 2300,\n",
              " 1523,\n",
              " 5,\n",
              " 647,\n",
              " 4,\n",
              " 116,\n",
              " 9,\n",
              " 35,\n",
              " 2,\n",
              " 4,\n",
              " 229,\n",
              " 9,\n",
              " 340,\n",
              " 1322,\n",
              " 4,\n",
              " 118,\n",
              " 9,\n",
              " 4,\n",
              " 130,\n",
              " 4901,\n",
              " 19,\n",
              " 4,\n",
              " 1002,\n",
              " 5,\n",
              " 89,\n",
              " 29,\n",
              " 952,\n",
              " 46,\n",
              " 37,\n",
              " 4,\n",
              " 455,\n",
              " 9,\n",
              " 45,\n",
              " 43,\n",
              " 38,\n",
              " 1543,\n",
              " 1905,\n",
              " 398,\n",
              " 4,\n",
              " 1649,\n",
              " 26,\n",
              " 2,\n",
              " 5,\n",
              " 163,\n",
              " 11,\n",
              " 3215,\n",
              " 2,\n",
              " 4,\n",
              " 1153,\n",
              " 9,\n",
              " 194,\n",
              " 775,\n",
              " 7,\n",
              " 2,\n",
              " 2,\n",
              " 349,\n",
              " 2637,\n",
              " 148,\n",
              " 605,\n",
              " 2,\n",
              " 2,\n",
              " 15,\n",
              " 123,\n",
              " 125,\n",
              " 68,\n",
              " 2,\n",
              " 2,\n",
              " 15,\n",
              " 349,\n",
              " 165,\n",
              " 4362,\n",
              " 98,\n",
              " 5,\n",
              " 4,\n",
              " 228,\n",
              " 9,\n",
              " 43,\n",
              " 2,\n",
              " 1157,\n",
              " 15,\n",
              " 299,\n",
              " 120,\n",
              " 5,\n",
              " 120,\n",
              " 174,\n",
              " 11,\n",
              " 220,\n",
              " 175,\n",
              " 136,\n",
              " 50,\n",
              " 9,\n",
              " 4373,\n",
              " 228,\n",
              " 2,\n",
              " 5,\n",
              " 2,\n",
              " 656,\n",
              " 245,\n",
              " 2350,\n",
              " 5,\n",
              " 4,\n",
              " 2,\n",
              " 131,\n",
              " 152,\n",
              " 491,\n",
              " 18,\n",
              " 2,\n",
              " 32,\n",
              " 2,\n",
              " 1212,\n",
              " 14,\n",
              " 9,\n",
              " 6,\n",
              " 371,\n",
              " 78,\n",
              " 22,\n",
              " 625,\n",
              " 64,\n",
              " 1382,\n",
              " 9,\n",
              " 8,\n",
              " 168,\n",
              " 145,\n",
              " 23,\n",
              " 4,\n",
              " 1690,\n",
              " 15,\n",
              " 16,\n",
              " 4,\n",
              " 1355,\n",
              " 5,\n",
              " 28,\n",
              " 6,\n",
              " 52,\n",
              " 154,\n",
              " 462,\n",
              " 33,\n",
              " 89,\n",
              " 78,\n",
              " 285,\n",
              " 16,\n",
              " 145,\n",
              " 95]"
            ]
          },
          "metadata": {
            "tags": []
          },
          "execution_count": 2
        }
      ]
    },
    {
      "cell_type": "code",
      "metadata": {
        "id": "MRLq8Z3aSXvC",
        "colab": {
          "base_uri": "https://localhost:8080/",
          "height": 826
        },
        "outputId": "535e005f-d6d6-4aac-b33a-7ad59533bae6"
      },
      "source": [
        "import matplotlib.pyplot as plt\n",
        "plt.xlim(0,1000)\n",
        "plt.hist(list(map(lambda x : len(x),X_train)),bins=100)"
      ],
      "execution_count": 3,
      "outputs": [
        {
          "output_type": "execute_result",
          "data": {
            "text/plain": [
              "(array([8.500e+01, 9.070e+02, 1.151e+03, 1.347e+03, 3.731e+03, 3.347e+03,\n",
              "        2.510e+03, 1.865e+03, 1.426e+03, 1.229e+03, 9.660e+02, 7.700e+02,\n",
              "        7.270e+02, 6.090e+02, 5.670e+02, 4.210e+02, 3.920e+02, 3.340e+02,\n",
              "        3.050e+02, 2.780e+02, 2.280e+02, 2.000e+02, 1.670e+02, 1.700e+02,\n",
              "        1.460e+02, 1.230e+02, 1.050e+02, 1.030e+02, 9.200e+01, 7.300e+01,\n",
              "        6.800e+01, 7.300e+01, 6.500e+01, 5.200e+01, 4.900e+01, 3.100e+01,\n",
              "        4.400e+01, 3.200e+01, 4.500e+01, 5.800e+01, 6.500e+01, 1.500e+01,\n",
              "        2.000e+00, 5.000e+00, 2.000e+00, 0.000e+00, 2.000e+00, 0.000e+00,\n",
              "        2.000e+00, 1.000e+00, 0.000e+00, 2.000e+00, 1.000e+00, 1.000e+00,\n",
              "        0.000e+00, 1.000e+00, 2.000e+00, 0.000e+00, 0.000e+00, 0.000e+00,\n",
              "        0.000e+00, 2.000e+00, 1.000e+00, 0.000e+00, 0.000e+00, 1.000e+00,\n",
              "        0.000e+00, 0.000e+00, 0.000e+00, 1.000e+00, 0.000e+00, 0.000e+00,\n",
              "        0.000e+00, 0.000e+00, 2.000e+00, 0.000e+00, 0.000e+00, 0.000e+00,\n",
              "        0.000e+00, 0.000e+00, 0.000e+00, 0.000e+00, 0.000e+00, 0.000e+00,\n",
              "        0.000e+00, 0.000e+00, 0.000e+00, 0.000e+00, 0.000e+00, 0.000e+00,\n",
              "        0.000e+00, 0.000e+00, 0.000e+00, 0.000e+00, 0.000e+00, 0.000e+00,\n",
              "        0.000e+00, 0.000e+00, 0.000e+00, 1.000e+00]),\n",
              " array([  11.  ,   35.83,   60.66,   85.49,  110.32,  135.15,  159.98,\n",
              "         184.81,  209.64,  234.47,  259.3 ,  284.13,  308.96,  333.79,\n",
              "         358.62,  383.45,  408.28,  433.11,  457.94,  482.77,  507.6 ,\n",
              "         532.43,  557.26,  582.09,  606.92,  631.75,  656.58,  681.41,\n",
              "         706.24,  731.07,  755.9 ,  780.73,  805.56,  830.39,  855.22,\n",
              "         880.05,  904.88,  929.71,  954.54,  979.37, 1004.2 , 1029.03,\n",
              "        1053.86, 1078.69, 1103.52, 1128.35, 1153.18, 1178.01, 1202.84,\n",
              "        1227.67, 1252.5 , 1277.33, 1302.16, 1326.99, 1351.82, 1376.65,\n",
              "        1401.48, 1426.31, 1451.14, 1475.97, 1500.8 , 1525.63, 1550.46,\n",
              "        1575.29, 1600.12, 1624.95, 1649.78, 1674.61, 1699.44, 1724.27,\n",
              "        1749.1 , 1773.93, 1798.76, 1823.59, 1848.42, 1873.25, 1898.08,\n",
              "        1922.91, 1947.74, 1972.57, 1997.4 , 2022.23, 2047.06, 2071.89,\n",
              "        2096.72, 2121.55, 2146.38, 2171.21, 2196.04, 2220.87, 2245.7 ,\n",
              "        2270.53, 2295.36, 2320.19, 2345.02, 2369.85, 2394.68, 2419.51,\n",
              "        2444.34, 2469.17, 2494.  ]),\n",
              " <a list of 100 Patch objects>)"
            ]
          },
          "metadata": {
            "tags": []
          },
          "execution_count": 3
        },
        {
          "output_type": "display_data",
          "data": {
            "image/png": "[encoded data removed]",
            "text/plain": [
              "<Figure size 432x288 with 1 Axes>"
            ]
          },
          "metadata": {
            "tags": [],
            "needs_background": "light"
          }
        }
      ]
    },
    {
      "cell_type": "markdown",
      "metadata": {
        "id": "sGXd0__j3K3w"
      },
      "source": [
        "&#x270d; 1.3) Can you convert the integers back to words?"
      ]
    },
    {
      "cell_type": "code",
      "metadata": {
        "id": "ITB5Ytby3K3x",
        "colab": {
          "base_uri": "https://localhost:8080/",
          "height": 205
        },
        "outputId": "f20e8721-e371-474b-8b29-e5ee8c96bae6"
      },
      "source": [
        "word_index = imdb.get_word_index() \n",
        "\n",
        "INDEX_FROM = 3\n",
        "word_index = {key:(value+INDEX_FROM) for key,value in word_index.items()}\n",
        "word_index[\"<PAD>\"] = 0    # the padding token\n",
        "word_index[\"<START>\"] = 1  # the starting token\n",
        "word_index[\"<UNK>\"] = 2    # the unknown token\n",
        "\n",
        "reverse_word_index = {value:key for key, value in word_index.items()} \n",
        "\n",
        "def decode_review(text):\n",
        "    return ' '.join([reverse_word_index.get(i, '?') for i in text])\n",
        "\n",
        "decode_review(X_train[0])"
      ],
      "execution_count": 4,
      "outputs": [
        {
          "output_type": "stream",
          "text": [
            "Downloading data from https://storage.googleapis.com/tensorflow/tf-keras-datasets/imdb_word_index.json\n",
            "1646592/1641221 [==============================] - 0s 0us/step\n"
          ],
          "name": "stdout"
        },
        {
          "output_type": "execute_result",
          "data": {
            "application/vnd.google.colaboratory.intrinsic+json": {
              "type": "string"
            },
            "text/plain": [
              "\"<START> this film was just brilliant casting location scenery story direction everyone's really suited the part they played and you could just imagine being there robert <UNK> is an amazing actor and now the same being director <UNK> father came from the same scottish island as myself so i loved the fact there was a real connection with this film the witty remarks throughout the film were great it was just brilliant so much that i bought the film as soon as it was released for <UNK> and would recommend it to everyone to watch and the fly <UNK> was amazing really cried at the end it was so sad and you know what they say if you cry at a film it must have been good and this definitely was also <UNK> to the two little <UNK> that played the <UNK> of norman and paul they were just brilliant children are often left out of the <UNK> list i think because the stars that play them all grown up are such a big <UNK> for the whole film but these children are amazing and should be <UNK> for what they have done don't you think the whole story was so lovely because it was true and was someone's life after all that was <UNK> with us all\""
            ]
          },
          "metadata": {
            "tags": []
          },
          "execution_count": 4
        }
      ]
    },
    {
      "cell_type": "markdown",
      "metadata": {
        "id": "lRgfS3yl3K32"
      },
      "source": [
        "#### Truncate and pad the data.\n",
        "\n",
        "&#x270d; 1.4) Truncate and pad the review sequences with maximum length of all review sequences to be 500."
      ]
    },
    {
      "cell_type": "code",
      "metadata": {
        "id": "Ji3HFrCx3K34",
        "colab": {
          "base_uri": "https://localhost:8080/"
        },
        "outputId": "077f80c6-d8b0-445b-a14d-c6e51b810f0f"
      },
      "source": [
        "from keras.preprocessing.sequence import pad_sequences\n",
        "\n",
        "max_length = 500 \n",
        "\n",
        "X_train = pad_sequences(X_train, max_length, padding='post', truncating='post')\n",
        "X_test = pad_sequences(X_test, max_length, padding='post', truncating='post')\n",
        "\n",
        "print('X_train shape:', X_train.shape) # (n_samples, sequence_length)\n",
        "print('X_test shape:', X_test.shape)"
      ],
      "execution_count": 5,
      "outputs": [
        {
          "output_type": "stream",
          "text": [
            "X_train shape: (25000, 500)\n",
            "X_test shape: (25000, 500)\n"
          ],
          "name": "stdout"
        }
      ]
    },
    {
      "cell_type": "markdown",
      "metadata": {
        "id": "b24LYX5o3K37"
      },
      "source": [
        "&#x270d; 1.5) Have a look at a sample of dataset."
      ]
    },
    {
      "cell_type": "code",
      "metadata": {
        "id": "-Ere0x383K38",
        "colab": {
          "base_uri": "https://localhost:8080/"
        },
        "outputId": "a14a3f74-2a05-49cd-8f5e-11e1193f761a"
      },
      "source": [
        "X_train[1]"
      ],
      "execution_count": 6,
      "outputs": [
        {
          "output_type": "execute_result",
          "data": {
            "text/plain": [
              "array([   1,  194, 1153,  194,    2,   78,  228,    5,    6, 1463, 4369,\n",
              "          2,  134,   26,    4,  715,    8,  118, 1634,   14,  394,   20,\n",
              "         13,  119,  954,  189,  102,    5,  207,  110, 3103,   21,   14,\n",
              "         69,  188,    8,   30,   23,    7,    4,  249,  126,   93,    4,\n",
              "        114,    9, 2300, 1523,    5,  647,    4,  116,    9,   35,    2,\n",
              "          4,  229,    9,  340, 1322,    4,  118,    9,    4,  130, 4901,\n",
              "         19,    4, 1002,    5,   89,   29,  952,   46,   37,    4,  455,\n",
              "          9,   45,   43,   38, 1543, 1905,  398,    4, 1649,   26,    2,\n",
              "          5,  163,   11, 3215,    2,    4, 1153,    9,  194,  775,    7,\n",
              "          2,    2,  349, 2637,  148,  605,    2,    2,   15,  123,  125,\n",
              "         68,    2,    2,   15,  349,  165, 4362,   98,    5,    4,  228,\n",
              "          9,   43,    2, 1157,   15,  299,  120,    5,  120,  174,   11,\n",
              "        220,  175,  136,   50,    9, 4373,  228,    2,    5,    2,  656,\n",
              "        245, 2350,    5,    4,    2,  131,  152,  491,   18,    2,   32,\n",
              "          2, 1212,   14,    9,    6,  371,   78,   22,  625,   64, 1382,\n",
              "          9,    8,  168,  145,   23,    4, 1690,   15,   16,    4, 1355,\n",
              "          5,   28,    6,   52,  154,  462,   33,   89,   78,  285,   16,\n",
              "        145,   95,    0,    0,    0,    0,    0,    0,    0,    0,    0,\n",
              "          0,    0,    0,    0,    0,    0,    0,    0,    0,    0,    0,\n",
              "          0,    0,    0,    0,    0,    0,    0,    0,    0,    0,    0,\n",
              "          0,    0,    0,    0,    0,    0,    0,    0,    0,    0,    0,\n",
              "          0,    0,    0,    0,    0,    0,    0,    0,    0,    0,    0,\n",
              "          0,    0,    0,    0,    0,    0,    0,    0,    0,    0,    0,\n",
              "          0,    0,    0,    0,    0,    0,    0,    0,    0,    0,    0,\n",
              "          0,    0,    0,    0,    0,    0,    0,    0,    0,    0,    0,\n",
              "          0,    0,    0,    0,    0,    0,    0,    0,    0,    0,    0,\n",
              "          0,    0,    0,    0,    0,    0,    0,    0,    0,    0,    0,\n",
              "          0,    0,    0,    0,    0,    0,    0,    0,    0,    0,    0,\n",
              "          0,    0,    0,    0,    0,    0,    0,    0,    0,    0,    0,\n",
              "          0,    0,    0,    0,    0,    0,    0,    0,    0,    0,    0,\n",
              "          0,    0,    0,    0,    0,    0,    0,    0,    0,    0,    0,\n",
              "          0,    0,    0,    0,    0,    0,    0,    0,    0,    0,    0,\n",
              "          0,    0,    0,    0,    0,    0,    0,    0,    0,    0,    0,\n",
              "          0,    0,    0,    0,    0,    0,    0,    0,    0,    0,    0,\n",
              "          0,    0,    0,    0,    0,    0,    0,    0,    0,    0,    0,\n",
              "          0,    0,    0,    0,    0,    0,    0,    0,    0,    0,    0,\n",
              "          0,    0,    0,    0,    0,    0,    0,    0,    0,    0,    0,\n",
              "          0,    0,    0,    0,    0,    0,    0,    0,    0,    0,    0,\n",
              "          0,    0,    0,    0,    0,    0,    0,    0,    0,    0,    0,\n",
              "          0,    0,    0,    0,    0,    0,    0,    0,    0,    0,    0,\n",
              "          0,    0,    0,    0,    0,    0,    0,    0,    0,    0,    0,\n",
              "          0,    0,    0,    0,    0,    0,    0,    0,    0,    0,    0,\n",
              "          0,    0,    0,    0,    0,    0,    0,    0,    0,    0,    0,\n",
              "          0,    0,    0,    0,    0,    0,    0,    0,    0,    0,    0,\n",
              "          0,    0,    0,    0,    0,    0,    0,    0,    0,    0,    0,\n",
              "          0,    0,    0,    0,    0], dtype=int32)"
            ]
          },
          "metadata": {
            "tags": []
          },
          "execution_count": 6
        }
      ]
    },
    {
      "cell_type": "code",
      "metadata": {
        "id": "dLgdi090gR2i",
        "colab": {
          "base_uri": "https://localhost:8080/"
        },
        "outputId": "65d62de2-10b1-4c61-9cff-92fb9bc441d6"
      },
      "source": [
        "y_train[1]"
      ],
      "execution_count": 7,
      "outputs": [
        {
          "output_type": "execute_result",
          "data": {
            "text/plain": [
              "0"
            ]
          },
          "metadata": {
            "tags": []
          },
          "execution_count": 7
        }
      ]
    },
    {
      "cell_type": "markdown",
      "metadata": {
        "id": "RvaTXLj_3K3-"
      },
      "source": [
        "###  2) ANN model <a id=\"ann\"></a>\n",
        "What Are Word Embeddings? \n",
        "\n",
        "A word embedding is a learned representation for text where words that have the same meaning have a similar representation.\n",
        "\n",
        "https://keras.io/layers/embeddings/"
      ]
    },
    {
      "cell_type": "markdown",
      "metadata": {
        "id": "6ADgPymT3K3_"
      },
      "source": [
        "&#x270d; 2.1) Create the model."
      ]
    },
    {
      "cell_type": "markdown",
      "metadata": {
        "id": "lliI6AG33K4D"
      },
      "source": [
        "&#x270d; 2.2) Compile and train the model. Consider 10% of training set for validation purpose."
      ]
    },
    {
      "cell_type": "code",
      "metadata": {
        "id": "8MMQ1f95-t_1",
        "colab": {
          "base_uri": "https://localhost:8080/"
        },
        "outputId": "71d0b08f-4d4a-4a0c-abc3-763bcd03050f"
      },
      "source": [
        "from keras.models import Sequential\n",
        "from keras.layers import Embedding, Flatten, Dense\n",
        "embedding_dim = 16\n",
        "model = Sequential()\n",
        "model.add(Embedding(vocab_size, embedding_dim,input_length= max_length,mask_zero=True))\n",
        "model.add(Flatten())\n",
        "#model.add(GlobalAveragePooling1D()) # averages across the vector to flatten it out.\n",
        "model.add(Dense(units= 16, activation= 'relu'))\n",
        "#model.add(Dropout(0.2))\n",
        "model.add(Dense(units=1, activation='sigmoid'))\n",
        "model.summary()\n",
        "model.compile(loss='binary_crossentropy',\n",
        "              optimizer='adam',\n",
        "              metrics=['accuracy'])\n",
        "batch_size = 32\n",
        "epochs = 10\n",
        "history = model.fit(X_train, y_train,\n",
        "          batch_size= batch_size,\n",
        "          epochs= epochs,\n",
        "          validation_split= 0.1)  "
      ],
      "execution_count": 8,
      "outputs": [
        {
          "output_type": "stream",
          "text": [
            "Model: \"sequential\"\n",
            "_________________________________________________________________\n",
            "Layer (type)                 Output Shape              Param #   \n",
            "=================================================================\n",
            "embedding (Embedding)        (None, 500, 16)           80000     \n",
            "_________________________________________________________________\n",
            "flatten (Flatten)            (None, 8000)              0         \n",
            "_________________________________________________________________\n",
            "dense (Dense)                (None, 16)                128016    \n",
            "_________________________________________________________________\n",
            "dense_1 (Dense)              (None, 1)                 17        \n",
            "=================================================================\n",
            "Total params: 208,033\n",
            "Trainable params: 208,033\n",
            "Non-trainable params: 0\n",
            "_________________________________________________________________\n",
            "Epoch 1/10\n",
            "704/704 [==============================] - 6s 7ms/step - loss: 0.6092 - accuracy: 0.6040 - val_loss: 0.3234 - val_accuracy: 0.8624\n",
            "Epoch 2/10\n",
            "704/704 [==============================] - 4s 6ms/step - loss: 0.2162 - accuracy: 0.9165 - val_loss: 0.3486 - val_accuracy: 0.8572\n",
            "Epoch 3/10\n",
            "704/704 [==============================] - 4s 6ms/step - loss: 0.0956 - accuracy: 0.9703 - val_loss: 0.4029 - val_accuracy: 0.8644\n",
            "Epoch 4/10\n",
            "704/704 [==============================] - 4s 6ms/step - loss: 0.0278 - accuracy: 0.9953 - val_loss: 0.4997 - val_accuracy: 0.8640\n",
            "Epoch 5/10\n",
            "704/704 [==============================] - 4s 6ms/step - loss: 0.0076 - accuracy: 0.9997 - val_loss: 0.5583 - val_accuracy: 0.8628\n",
            "Epoch 6/10\n",
            "704/704 [==============================] - 4s 6ms/step - loss: 0.0024 - accuracy: 0.9999 - val_loss: 0.6256 - val_accuracy: 0.8664\n",
            "Epoch 7/10\n",
            "704/704 [==============================] - 4s 6ms/step - loss: 0.0012 - accuracy: 1.0000 - val_loss: 0.6744 - val_accuracy: 0.8664\n",
            "Epoch 8/10\n",
            "704/704 [==============================] - 4s 6ms/step - loss: 7.8271e-04 - accuracy: 1.0000 - val_loss: 0.7208 - val_accuracy: 0.8652\n",
            "Epoch 9/10\n",
            "704/704 [==============================] - 4s 6ms/step - loss: 3.1761e-04 - accuracy: 1.0000 - val_loss: 0.7630 - val_accuracy: 0.8684\n",
            "Epoch 10/10\n",
            "704/704 [==============================] - 4s 6ms/step - loss: 1.6963e-04 - accuracy: 1.0000 - val_loss: 0.7982 - val_accuracy: 0.8684\n"
          ],
          "name": "stdout"
        }
      ]
    },
    {
      "cell_type": "markdown",
      "metadata": {
        "id": "YHwRxJTS3K4O"
      },
      "source": [
        "&#x270d; 2.3) Evaluate the model over test set."
      ]
    },
    {
      "cell_type": "code",
      "metadata": {
        "id": "9Pz0hycj3K4Q",
        "colab": {
          "base_uri": "https://localhost:8080/"
        },
        "outputId": "b2a5f89e-6fc0-4618-dda7-6b051f4dc9cf"
      },
      "source": [
        "score, acc = model.evaluate(X_test, y_test)\n",
        "print('Test score:', score)\n",
        "print('Test accuracy:', acc)"
      ],
      "execution_count": 9,
      "outputs": [
        {
          "output_type": "stream",
          "text": [
            "782/782 [==============================] - 1s 2ms/step - loss: 0.8308 - accuracy: 0.8481\n",
            "Test score: 0.8308444619178772\n",
            "Test accuracy: 0.8480799794197083\n"
          ],
          "name": "stdout"
        }
      ]
    },
    {
      "cell_type": "markdown",
      "metadata": {
        "id": "-knHHRw-3K4W"
      },
      "source": [
        "&#x270d; 2.4) Plot loss and accuracy metrics versus training epochs for both training and validation sets."
      ]
    },
    {
      "cell_type": "code",
      "metadata": {
        "id": "p9Sje2SZ3K4X",
        "colab": {
          "base_uri": "https://localhost:8080/",
          "height": 295
        },
        "outputId": "77b86e06-25d3-4417-ccbb-f39173582e3f"
      },
      "source": [
        "import matplotlib.pyplot as plt\n",
        "%matplotlib inline\n",
        "\n",
        "def plot_model(history):\n",
        "  plt.plot(history.history['loss'])\n",
        "  plt.plot(history.history['accuracy'])\n",
        "  plt.title('model loss')\n",
        "  plt.ylabel('loss')\n",
        "  plt.xlabel('epoch')\n",
        "  plt.legend(['train', 'test'], loc='upper left')\n",
        "    \n",
        "    \n",
        "plot_model(history)"
      ],
      "execution_count": 10,
      "outputs": [
        {
          "output_type": "display_data",
          "data": {
            "image/png": "[encoded data removed]",
            "text/plain": [
              "<Figure size 432x288 with 1 Axes>"
            ]
          },
          "metadata": {
            "tags": [],
            "needs_background": "light"
          }
        }
      ]
    },
    {
      "cell_type": "markdown",
      "metadata": {
        "id": "Bs44bd7K3K4t"
      },
      "source": [
        "###  3) CNN model <a id=\"cnn\"></a>"
      ]
    },
    {
      "cell_type": "code",
      "metadata": {
        "id": "4qFVflrN3K4t",
        "colab": {
          "base_uri": "https://localhost:8080/"
        },
        "outputId": "260afc1d-5edb-4633-f2a8-b964c44c3f3c"
      },
      "source": [
        "from keras.models import Sequential\n",
        "from tensorflow.keras import regularizers\n",
        "from keras.layers import Embedding, Dropout, Conv1D, GlobalMaxPooling1D, Dense\n",
        "\n",
        "embedding_dim = 16\n",
        "\n",
        "model = Sequential()\n",
        "\n",
        "model.add(Embedding(vocab_size, embedding_dim, input_length= max_length))\n",
        "#model.add(Dropout(0.2))\n",
        "\n",
        "model.add(Conv1D(filters = 128, kernel_size = 5, strides= 1, padding='same', activation= 'relu',kernel_regularizer=regularizers.l1_l2(l1=1e-4, l2=1e-3)))\n",
        "#[None,time_stamp=500, variable=embedding_dim]\n",
        "model.add(GlobalMaxPooling1D())\n",
        "\n",
        "\n",
        "model.add(Dense(units= 64, activation= 'relu',kernel_regularizer=regularizers.l1_l2(l1=1e-4, l2=1e-3)))\n",
        "model.add(Dropout(0.2))\n",
        "\n",
        "model.add(Dense(units=1, activation='sigmoid'))\n",
        "\n",
        "model.summary()"
      ],
      "execution_count": 13,
      "outputs": [
        {
          "output_type": "stream",
          "text": [
            "Model: \"sequential_2\"\n",
            "_________________________________________________________________\n",
            "Layer (type)                 Output Shape              Param #   \n",
            "=================================================================\n",
            "embedding_2 (Embedding)      (None, 500, 16)           80000     \n",
            "_________________________________________________________________\n",
            "conv1d (Conv1D)              (None, 500, 128)          10368     \n",
            "_________________________________________________________________\n",
            "global_max_pooling1d (Global (None, 128)               0         \n",
            "_________________________________________________________________\n",
            "dense_2 (Dense)              (None, 64)                8256      \n",
            "_________________________________________________________________\n",
            "dropout (Dropout)            (None, 64)                0         \n",
            "_________________________________________________________________\n",
            "dense_3 (Dense)              (None, 1)                 65        \n",
            "=================================================================\n",
            "Total params: 98,689\n",
            "Trainable params: 98,689\n",
            "Non-trainable params: 0\n",
            "_________________________________________________________________\n"
          ],
          "name": "stdout"
        }
      ]
    },
    {
      "cell_type": "code",
      "metadata": {
        "id": "SkXoIw123K40",
        "colab": {
          "base_uri": "https://localhost:8080/",
          "height": 295
        },
        "outputId": "43fc7c08-c9b1-46b8-9935-670f6fc23972"
      },
      "source": [
        "plot_model(history)"
      ],
      "execution_count": 15,
      "outputs": [
        {
          "output_type": "display_data",
          "data": {
            "image/png": "[encoded data removed]",
            "text/plain": [
              "<Figure size 432x288 with 1 Axes>"
            ]
          },
          "metadata": {
            "tags": [],
            "needs_background": "light"
          }
        }
      ]
    },
    {
      "cell_type": "code",
      "metadata": {
        "colab": {
          "base_uri": "https://localhost:8080/"
        },
        "id": "2TP28X2D2fW6",
        "outputId": "f5cc8589-17e2-43ac-9a5c-b6d3f319371e"
      },
      "source": [
        "model.compile(loss='binary_crossentropy',\r\n",
        "              optimizer='adam',\r\n",
        "              metrics=['accuracy'])\r\n",
        "\r\n",
        "batch_size = 32\r\n",
        "epochs = 3\r\n",
        "\r\n",
        "history = model.fit(X_train, y_train,\r\n",
        "          batch_size= batch_size,\r\n",
        "          epochs= epochs,\r\n",
        "          validation_data=(X_test, y_test))  "
      ],
      "execution_count": 18,
      "outputs": [
        {
          "output_type": "stream",
          "text": [
            "Epoch 1/3\n",
            "782/782 [==============================] - 41s 52ms/step - loss: 0.6979 - accuracy: 0.6090 - val_loss: 0.4264 - val_accuracy: 0.8305\n",
            "Epoch 2/3\n",
            "782/782 [==============================] - 40s 52ms/step - loss: 0.3846 - accuracy: 0.8583 - val_loss: 0.3524 - val_accuracy: 0.8721\n",
            "Epoch 3/3\n",
            "782/782 [==============================] - 40s 52ms/step - loss: 0.2942 - accuracy: 0.9046 - val_loss: 0.3412 - val_accuracy: 0.8785\n"
          ],
          "name": "stdout"
        }
      ]
    },
    {
      "cell_type": "code",
      "metadata": {
        "id": "EyixC9Ym3K44",
        "colab": {
          "base_uri": "https://localhost:8080/"
        },
        "outputId": "1032aa74-1968-4657-85f0-a61623484763"
      },
      "source": [
        "score, acc = model.evaluate(X_test, y_test)\n",
        "print('Test score:', score)\n",
        "print('Test accuracy:', acc)"
      ],
      "execution_count": 19,
      "outputs": [
        {
          "output_type": "stream",
          "text": [
            "782/782 [==============================] - 9s 11ms/step - loss: 0.3412 - accuracy: 0.8785\n",
            "Test score: 0.34119656682014465\n",
            "Test accuracy: 0.8784800171852112\n"
          ],
          "name": "stdout"
        }
      ]
    },
    {
      "cell_type": "code",
      "metadata": {
        "id": "nUBo0zp4Mm2T",
        "colab": {
          "base_uri": "https://localhost:8080/"
        },
        "outputId": "4252b019-86f9-4cde-d7f3-d55b804b731c"
      },
      "source": [
        "embedding_layer = model.layers[0]\n",
        "weights = embedding_layer.get_weights()[0]\n",
        "print(weights.shape) # (vocab_size, embedding_dim)\n",
        "import io\n",
        "out_v = io.open('vecs.tsv', 'w', encoding = 'utf-8')\n",
        "out_m = io.open('meta.tsv', 'w', encoding = 'utf-8')\n",
        "for word_num in range(4, vocab_size):\n",
        "    word = reverse_word_index[word_num]\n",
        "    embeddings = weights[word_num]\n",
        "    out_m.write(word + '\\n')\n",
        "    out_v.write('\\t'.join([str(x) for x in embeddings]) + '\\n')\n",
        "out_v.close()\n",
        "out_m.close()\n"
      ],
      "execution_count": 20,
      "outputs": [
        {
          "output_type": "stream",
          "text": [
            "(5000, 16)\n"
          ],
          "name": "stdout"
        }
      ]
    },
    {
      "cell_type": "markdown",
      "metadata": {
        "id": "sYcvDVaZ3K4_"
      },
      "source": [
        "###  4) LSTM model <a id=\"lstm\"></a>"
      ]
    },
    {
      "cell_type": "code",
      "metadata": {
        "id": "q6v4IIDa3K5C",
        "colab": {
          "base_uri": "https://localhost:8080/"
        },
        "outputId": "8a47a77c-8764-4da5-8e3e-dc8576938406"
      },
      "source": [
        "from keras.layers import LSTM\n",
        "from keras.models import Sequential\n",
        "from keras.layers import Embedding, Dropout, Conv1D, GlobalMaxPooling1D, Dense\n",
        "model = Sequential()\n",
        "model.add(Embedding(vocab_size, embedding_dim, input_length= max_length, mask_zero=True))\n",
        "model.add(LSTM(max_length, dropout=0.2, recurrent_dropout=0.2))\n",
        "model.add(Dense(1, activation='sigmoid'))\n",
        "model.summary()\n"
      ],
      "execution_count": 21,
      "outputs": [
        {
          "output_type": "stream",
          "text": [
            "Model: \"sequential_3\"\n",
            "_________________________________________________________________\n",
            "Layer (type)                 Output Shape              Param #   \n",
            "=================================================================\n",
            "embedding_3 (Embedding)      (None, 500, 16)           80000     \n",
            "_________________________________________________________________\n",
            "lstm (LSTM)                  (None, 500)               1034000   \n",
            "_________________________________________________________________\n",
            "dense_4 (Dense)              (None, 1)                 501       \n",
            "=================================================================\n",
            "Total params: 1,114,501\n",
            "Trainable params: 1,114,501\n",
            "Non-trainable params: 0\n",
            "_________________________________________________________________\n"
          ],
          "name": "stdout"
        }
      ]
    },
    {
      "cell_type": "code",
      "metadata": {
        "id": "zysIrtGTplJ3",
        "colab": {
          "base_uri": "https://localhost:8080/"
        },
        "outputId": "9b548074-f300-4567-b22a-5f2bc8675bb8"
      },
      "source": [
        "from keras.layers import LSTM\n",
        "model = Sequential()\n",
        "model.add(Embedding(vocab_size,64,input_length=max_length,mask_zero=True))\n",
        "model.add(LSTM(32))\n",
        "model.add(Dense(16,activation='relu'))\n",
        "model.add(Dense(1,activation='sigmoid'))\n",
        "model.summary()"
      ],
      "execution_count": 22,
      "outputs": [
        {
          "output_type": "stream",
          "text": [
            "Model: \"sequential_4\"\n",
            "_________________________________________________________________\n",
            "Layer (type)                 Output Shape              Param #   \n",
            "=================================================================\n",
            "embedding_4 (Embedding)      (None, 500, 64)           320000    \n",
            "_________________________________________________________________\n",
            "lstm_1 (LSTM)                (None, 32)                12416     \n",
            "_________________________________________________________________\n",
            "dense_5 (Dense)              (None, 16)                528       \n",
            "_________________________________________________________________\n",
            "dense_6 (Dense)              (None, 1)                 17        \n",
            "=================================================================\n",
            "Total params: 332,961\n",
            "Trainable params: 332,961\n",
            "Non-trainable params: 0\n",
            "_________________________________________________________________\n"
          ],
          "name": "stdout"
        }
      ]
    },
    {
      "cell_type": "code",
      "metadata": {
        "id": "MC8a3UIU3K5G",
        "colab": {
          "base_uri": "https://localhost:8080/"
        },
        "outputId": "b5f3820d-c494-44b0-e0d2-0d12121c9d22"
      },
      "source": [
        "model.compile(loss='binary_crossentropy',\n",
        "              optimizer='adam',\n",
        "              metrics=['accuracy'])\n",
        "\n",
        "history = model.fit(X_train, y_train,\n",
        "          batch_size= 512,\n",
        "          epochs= 5,\n",
        "          validation_split= 0.1)  "
      ],
      "execution_count": 23,
      "outputs": [
        {
          "output_type": "stream",
          "text": [
            "Epoch 1/5\n",
            "44/44 [==============================] - 67s 1s/step - loss: 0.6854 - accuracy: 0.5765 - val_loss: 0.5047 - val_accuracy: 0.8080\n",
            "Epoch 2/5\n",
            "44/44 [==============================] - 62s 1s/step - loss: 0.4383 - accuracy: 0.8239 - val_loss: 0.3426 - val_accuracy: 0.8608\n",
            "Epoch 3/5\n",
            "44/44 [==============================] - 62s 1s/step - loss: 0.2809 - accuracy: 0.8928 - val_loss: 0.3060 - val_accuracy: 0.8856\n",
            "Epoch 4/5\n",
            "44/44 [==============================] - 62s 1s/step - loss: 0.2229 - accuracy: 0.9206 - val_loss: 0.2974 - val_accuracy: 0.8820\n",
            "Epoch 5/5\n",
            "44/44 [==============================] - 62s 1s/step - loss: 0.1873 - accuracy: 0.9368 - val_loss: 0.3373 - val_accuracy: 0.8764\n"
          ],
          "name": "stdout"
        }
      ]
    },
    {
      "cell_type": "code",
      "metadata": {
        "id": "wolwH7dC3K5I",
        "colab": {
          "base_uri": "https://localhost:8080/",
          "height": 295
        },
        "outputId": "356c140d-f49c-4a05-bfb7-dfba45c9aa30"
      },
      "source": [
        "plot_model(history)"
      ],
      "execution_count": 24,
      "outputs": [
        {
          "output_type": "display_data",
          "data": {
            "image/png": "[encoded data removed]",
            "text/plain": [
              "<Figure size 432x288 with 1 Axes>"
            ]
          },
          "metadata": {
            "tags": [],
            "needs_background": "light"
          }
        }
      ]
    },
    {
      "cell_type": "code",
      "metadata": {
        "id": "6qHteP0Z3K5K",
        "colab": {
          "base_uri": "https://localhost:8080/"
        },
        "outputId": "20f2068e-5114-4d18-c70c-5233383f170b"
      },
      "source": [
        "score, acc = model.evaluate(X_test, y_test)\n",
        "print('Test score:', score)\n",
        "print('Test accuracy:', acc)"
      ],
      "execution_count": 25,
      "outputs": [
        {
          "output_type": "stream",
          "text": [
            "782/782 [==============================] - 41s 53ms/step - loss: 0.3409 - accuracy: 0.8690\n",
            "Test score: 0.3409314453601837\n",
            "Test accuracy: 0.8689600229263306\n"
          ],
          "name": "stdout"
        }
      ]
    },
    {
      "cell_type": "markdown",
      "metadata": {
        "id": "miWE1Epk3K5N"
      },
      "source": [
        "### 5) Bidirectional LSTM model <a name=\"bilstm\"></a>"
      ]
    },
    {
      "cell_type": "code",
      "metadata": {
        "id": "3Yc6j5ZZ3K5P",
        "colab": {
          "base_uri": "https://localhost:8080/"
        },
        "outputId": "bb5b94a0-2dc0-4b3f-a447-47faee31eff9"
      },
      "source": [
        "from keras.layers import Bidirectional\n",
        "\n",
        "model = Sequential()\n",
        "model.add(Embedding(vocab_size, embedding_dim, input_length= max_length))\n",
        "model.add(Bidirectional(LSTM(64)))\n",
        "model.add(Dropout(0.5))\n",
        "#model.add(Dense(10, activation='relu'))\n",
        "model.add(Dense(1, activation='sigmoid'))\n",
        "\n",
        "model.summary()"
      ],
      "execution_count": 29,
      "outputs": [
        {
          "output_type": "stream",
          "text": [
            "Model: \"sequential_6\"\n",
            "_________________________________________________________________\n",
            "Layer (type)                 Output Shape              Param #   \n",
            "=================================================================\n",
            "embedding_6 (Embedding)      (None, 500, 16)           80000     \n",
            "_________________________________________________________________\n",
            "bidirectional_1 (Bidirection (None, 128)               41472     \n",
            "_________________________________________________________________\n",
            "dropout_2 (Dropout)          (None, 128)               0         \n",
            "_________________________________________________________________\n",
            "dense_8 (Dense)              (None, 1)                 129       \n",
            "=================================================================\n",
            "Total params: 121,601\n",
            "Trainable params: 121,601\n",
            "Non-trainable params: 0\n",
            "_________________________________________________________________\n"
          ],
          "name": "stdout"
        }
      ]
    },
    {
      "cell_type": "code",
      "metadata": {
        "id": "cfRZqNh83K5a",
        "colab": {
          "base_uri": "https://localhost:8080/"
        },
        "outputId": "3428c410-4ff3-46b0-c8e5-36f14fbded39"
      },
      "source": [
        "model.compile(loss='binary_crossentropy',\n",
        "              optimizer='adam',\n",
        "              metrics=['accuracy'])\n",
        "\n",
        "batch_size = 32\n",
        "epochs = 5\n",
        "\n",
        "history = model.fit(X_train, y_train,\n",
        "          batch_size= batch_size,\n",
        "          epochs= epochs,\n",
        "          validation_split= 0.1)"
      ],
      "execution_count": 30,
      "outputs": [
        {
          "output_type": "stream",
          "text": [
            "Epoch 1/5\n",
            "704/704 [==============================] - 307s 432ms/step - loss: 0.6216 - accuracy: 0.6294 - val_loss: 0.5180 - val_accuracy: 0.7380\n",
            "Epoch 2/5\n",
            "704/704 [==============================] - 304s 432ms/step - loss: 0.4237 - accuracy: 0.8256 - val_loss: 0.6632 - val_accuracy: 0.5748\n",
            "Epoch 3/5\n",
            "704/704 [==============================] - 304s 432ms/step - loss: 0.4565 - accuracy: 0.7878 - val_loss: 0.3363 - val_accuracy: 0.8612\n",
            "Epoch 4/5\n",
            "704/704 [==============================] - 303s 431ms/step - loss: 0.2903 - accuracy: 0.8909 - val_loss: 0.3559 - val_accuracy: 0.8800\n",
            "Epoch 5/5\n",
            "704/704 [==============================] - 302s 430ms/step - loss: 0.3822 - accuracy: 0.8336 - val_loss: 0.6834 - val_accuracy: 0.7804\n"
          ],
          "name": "stdout"
        }
      ]
    },
    {
      "cell_type": "code",
      "metadata": {
        "id": "04yFU6nM3K5c",
        "colab": {
          "base_uri": "https://localhost:8080/",
          "height": 295
        },
        "outputId": "6b4a6952-dcb5-4602-867b-592f5a05f328"
      },
      "source": [
        "plot_model(history)"
      ],
      "execution_count": 31,
      "outputs": [
        {
          "output_type": "display_data",
          "data": {
            "image/png": "[encoded data removed]",
            "text/plain": [
              "<Figure size 432x288 with 1 Axes>"
            ]
          },
          "metadata": {
            "tags": [],
            "needs_background": "light"
          }
        }
      ]
    },
    {
      "cell_type": "code",
      "metadata": {
        "id": "3qTP3eIW3K5f",
        "colab": {
          "base_uri": "https://localhost:8080/"
        },
        "outputId": "2ef2c17b-fa39-400c-dd97-c4a5b74303f9"
      },
      "source": [
        "score, acc = model.evaluate(X_test, y_test)\n",
        "print('Test score:', score)\n",
        "print('Test accuracy:', acc)"
      ],
      "execution_count": 32,
      "outputs": [
        {
          "output_type": "stream",
          "text": [
            "782/782 [==============================] - 62s 79ms/step - loss: 0.6570 - accuracy: 0.7905\n",
            "Test score: 0.6569909453392029\n",
            "Test accuracy: 0.7904800176620483\n"
          ],
          "name": "stdout"
        }
      ]
    },
    {
      "cell_type": "markdown",
      "metadata": {
        "id": "1aynKYw-3K5i"
      },
      "source": [
        "### 6) CNN LSTM model <a name=\"cnnlstm\"></a>"
      ]
    },
    {
      "cell_type": "code",
      "metadata": {
        "id": "ZF2akCJ93K5k",
        "colab": {
          "base_uri": "https://localhost:8080/"
        },
        "outputId": "542f6a9a-76ba-4928-a07f-d77c2b4cfed9"
      },
      "source": [
        "from keras.layers import MaxPooling1D, Activation\n",
        "embedding_dim=16\n",
        "model = Sequential()\n",
        "model.add(Embedding(vocab_size, embedding_dim, input_length= max_length,mask_zero=True))\n",
        "model.add(Dropout(0.25))\n",
        "model.add(Conv1D(filters = 64, kernel_size= 5, activation='relu', strides=1))\n",
        "model.add(MaxPooling1D(pool_size= 4))\n",
        "model.add(LSTM(70))\n",
        "model.add(Dense(1,activation='sigmoid'))\n",
        "#model.add(Activation('sigmoid'))\n",
        "\n",
        "\n",
        "model.summary()"
      ],
      "execution_count": 33,
      "outputs": [
        {
          "output_type": "stream",
          "text": [
            "Model: \"sequential_7\"\n",
            "_________________________________________________________________\n",
            "Layer (type)                 Output Shape              Param #   \n",
            "=================================================================\n",
            "embedding_7 (Embedding)      (None, 500, 16)           80000     \n",
            "_________________________________________________________________\n",
            "dropout_3 (Dropout)          (None, 500, 16)           0         \n",
            "_________________________________________________________________\n",
            "conv1d_1 (Conv1D)            (None, 496, 64)           5184      \n",
            "_________________________________________________________________\n",
            "max_pooling1d (MaxPooling1D) (None, 124, 64)           0         \n",
            "_________________________________________________________________\n",
            "lstm_4 (LSTM)                (None, 70)                37800     \n",
            "_________________________________________________________________\n",
            "dense_9 (Dense)              (None, 1)                 71        \n",
            "=================================================================\n",
            "Total params: 123,055\n",
            "Trainable params: 123,055\n",
            "Non-trainable params: 0\n",
            "_________________________________________________________________\n"
          ],
          "name": "stdout"
        }
      ]
    },
    {
      "cell_type": "code",
      "metadata": {
        "id": "LYl8b8JO3K5m",
        "colab": {
          "base_uri": "https://localhost:8080/"
        },
        "outputId": "92583952-26d2-433b-bc4d-8bdbab701ddd"
      },
      "source": [
        "model.compile(loss='binary_crossentropy',\n",
        "              optimizer='adam',\n",
        "              metrics=['accuracy'])\n",
        "\n",
        "batch_size = 250\n",
        "epochs = 5\n",
        "\n",
        "history = model.fit(X_train, y_train,\n",
        "          batch_size= batch_size,\n",
        "          epochs= epochs,\n",
        "          validation_data=(X_test, y_test))"
      ],
      "execution_count": 34,
      "outputs": [
        {
          "output_type": "stream",
          "text": [
            "Epoch 1/5\n",
            "100/100 [==============================] - 66s 641ms/step - loss: 0.6933 - accuracy: 0.4988 - val_loss: 0.6926 - val_accuracy: 0.5067\n",
            "Epoch 2/5\n",
            "100/100 [==============================] - 64s 640ms/step - loss: 0.6910 - accuracy: 0.5178 - val_loss: 0.6918 - val_accuracy: 0.5028\n",
            "Epoch 3/5\n",
            "100/100 [==============================] - 64s 640ms/step - loss: 0.6884 - accuracy: 0.5367 - val_loss: 0.6923 - val_accuracy: 0.5112\n",
            "Epoch 4/5\n",
            "100/100 [==============================] - 64s 640ms/step - loss: 0.6895 - accuracy: 0.5189 - val_loss: 0.6965 - val_accuracy: 0.5036\n",
            "Epoch 5/5\n",
            "100/100 [==============================] - 64s 640ms/step - loss: 0.6867 - accuracy: 0.5139 - val_loss: 0.5834 - val_accuracy: 0.7544\n"
          ],
          "name": "stdout"
        }
      ]
    },
    {
      "cell_type": "code",
      "metadata": {
        "id": "r5k6Ee7W3K5o",
        "colab": {
          "base_uri": "https://localhost:8080/",
          "height": 295
        },
        "outputId": "fbf89338-7a8f-41f9-ef0e-ec238c8b3e73"
      },
      "source": [
        "plot_model(history)"
      ],
      "execution_count": 35,
      "outputs": [
        {
          "output_type": "display_data",
          "data": {
            "image/png": "[encoded data removed]",
            "text/plain": [
              "<Figure size 432x288 with 1 Axes>"
            ]
          },
          "metadata": {
            "tags": [],
            "needs_background": "light"
          }
        }
      ]
    },
    {
      "cell_type": "code",
      "metadata": {
        "id": "NDaO4Za63K5r",
        "colab": {
          "base_uri": "https://localhost:8080/"
        },
        "outputId": "b1eb2e85-018c-442b-c39d-c3918d500f19"
      },
      "source": [
        "score, acc = model.evaluate(X_test, y_test)\n",
        "print('Test score:', score)\n",
        "print('Test accuracy:', acc)"
      ],
      "execution_count": 36,
      "outputs": [
        {
          "output_type": "stream",
          "text": [
            "782/782 [==============================] - 20s 25ms/step - loss: 0.5834 - accuracy: 0.7544\n",
            "Test score: 0.5834141969680786\n",
            "Test accuracy: 0.754360020160675\n"
          ],
          "name": "stdout"
        }
      ]
    },
    {
      "cell_type": "markdown",
      "metadata": {
        "id": "zH6JuVH53K5v"
      },
      "source": [
        "### Reference <a name=\"ref\"></a>\n",
        "\n",
        "https://keras.io/examples/imdb_cnn/"
      ]
    }
  ]
}